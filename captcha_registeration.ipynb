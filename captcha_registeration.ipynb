{
  "nbformat": 4,
  "nbformat_minor": 0,
  "metadata": {
    "colab": {
      "provenance": [],
      "authorship_tag": "ABX9TyOuayTjjLU6Vxf6a+LLMXBQ",
      "include_colab_link": true
    },
    "kernelspec": {
      "name": "python3",
      "display_name": "Python 3"
    },
    "language_info": {
      "name": "python"
    }
  },
  "cells": [
    {
      "cell_type": "markdown",
      "metadata": {
        "id": "view-in-github",
        "colab_type": "text"
      },
      "source": [
        "<a href=\"https://colab.research.google.com/github/nithishrishk/Assignment-submission/blob/main/captcha_registeration.ipynb\" target=\"_parent\"><img src=\"https://colab.research.google.com/assets/colab-badge.svg\" alt=\"Open In Colab\"/></a>"
      ]
    },
    {
      "cell_type": "code",
      "execution_count": null,
      "metadata": {
        "colab": {
          "base_uri": "https://localhost:8080/"
        },
        "id": "V231pjl8428W",
        "outputId": "cd740de5-e247-42ea-e58a-44a220d7d1e6"
      },
      "outputs": [
        {
          "output_type": "stream",
          "name": "stdout",
          "text": [
            "[Errno 2] No such file or directory: 'captcha-login-386ec-firebase-adminsdk-x094e-7eb1d468d8.json'\n"
          ]
        }
      ],
      "source": [
        "import firebase_admin\n",
        "from firebase_admin import credentials, db\n",
        "try:\n",
        "    # Initialize Firebase Admin SDK\n",
        "    cred = credentials.Certificate(\"captcha-login-386ec-firebase-adminsdk-x094e-7eb1d468d8.json\")\n",
        "    firebase_admin.initialize_app(cred, {\n",
        "        'databaseURL': 'https://captcha-login-386ec-default-rtdb.firebaseio.com/'\n",
        "    })\n",
        "\n",
        "    # Data to be inserted\n",
        "    username = input(\"Enter Username:\")\n",
        "    password = input(\"Enter Password:\")\n",
        "    cap_username = input(\"Enter CapUn:\")\n",
        "    cap_password = input(\"Enter Cappassword:\")\n",
        "\n",
        "    # Reference to the root of the Firebase Realtime Database\n",
        "    root_ref = db.reference()\n",
        "\n",
        "    # Insert data into the 'users' node\n",
        "    users_ref = root_ref.child('users')\n",
        "    users_ref.push({\n",
        "        'username': username,\n",
        "        'password': password,\n",
        "        'cap_username': cap_username,\n",
        "        'cap_password': cap_password\n",
        "    })\n",
        "\n",
        "    print(\"Data inserted successfully.\")\n",
        "except Exception as e:\n",
        "    print(e)\n"
      ]
    }
  ]
}